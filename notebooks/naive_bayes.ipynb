{
 "cells": [
  {
   "cell_type": "code",
   "execution_count": 1,
   "outputs": [],
   "source": [
    "import pandas as pd\n",
    "import numpy as np"
   ],
   "metadata": {
    "collapsed": false,
    "pycharm": {
     "name": "#%%\n"
    }
   }
  },
  {
   "cell_type": "code",
   "execution_count": 2,
   "outputs": [],
   "source": [
    "dataset_path = \"final_dataset/pre_processed_final.csv\"\n",
    "data = pd.read_csv(dataset_path)\n",
    "data = data[['text', 'sentiment']]\n",
    "data = data.dropna()\n",
    "# text = data['text']\n",
    "# lables = data['sentiment']"
   ],
   "metadata": {
    "collapsed": false,
    "pycharm": {
     "name": "#%%\n"
    }
   }
  },
  {
   "cell_type": "code",
   "execution_count": 3,
   "outputs": [
    {
     "name": "stderr",
     "output_type": "stream",
     "text": [
      "[nltk_data] Downloading package stopwords to\n",
      "[nltk_data]     /Users/bharathkumar/nltk_data...\n",
      "[nltk_data]   Package stopwords is already up-to-date!\n"
     ]
    }
   ],
   "source": [
    "import nltk\n",
    "import re\n",
    "\n",
    "nltk.download('stopwords')\n",
    "\n",
    "from nltk.corpus import stopwords\n",
    "stop_words = set(stopwords.words('english'))"
   ],
   "metadata": {
    "collapsed": false,
    "pycharm": {
     "name": "#%%\n"
    }
   }
  },
  {
   "cell_type": "code",
   "execution_count": 4,
   "outputs": [],
   "source": [
    "def preprocess(text):\n",
    "    text = re.sub(r'@[A-Za-z0-9]+', '', text) # Remove @mentions\n",
    "    text = re.sub(r'#', '', text) # Remove hashtags\n",
    "    text = re.sub(r'RT[\\s]+', '', text) # Remove retweets\n",
    "    text = re.sub(r'https?:\\/\\/\\S+', '', text) # Remove hyperlinks\n",
    "    text = re.sub(r'\\n', '', text) # Remove newlines\n",
    "    text = re.sub(r'[^\\w\\s]', '', text) # Remove punctuation\n",
    "    text = re.sub(r'\\d+', '', text) # Remove digits\n",
    "    text = ' '.join([word for word in text.split() if word not in stop_words]) # remove stop words\n",
    "    return text"
   ],
   "metadata": {
    "collapsed": false,
    "pycharm": {
     "name": "#%%\n"
    }
   }
  },
  {
   "cell_type": "code",
   "execution_count": 5,
   "outputs": [],
   "source": [
    "processed_data = [preprocess(t) for t in data['text']]\n",
    "from sklearn.model_selection import train_test_split\n",
    "X_train, X_test, y_train, y_test = train_test_split(pd.DataFrame(processed_data), data['sentiment'], test_size=0.3, random_state=32)"
   ],
   "metadata": {
    "collapsed": false,
    "pycharm": {
     "name": "#%%\n"
    }
   }
  },
  {
   "cell_type": "code",
   "execution_count": 6,
   "outputs": [],
   "source": [
    "from sklearn.feature_extraction.text import CountVectorizer\n",
    "from sklearn.naive_bayes import MultinomialNB\n",
    "from sklearn.pipeline import Pipeline\n",
    "from sklearn.feature_selection import SelectKBest, chi2\n",
    "\n",
    "count_vectorizer = CountVectorizer(ngram_range=(1,1))\n",
    "multinomial_NB_classifier = Pipeline([('vect', count_vectorizer), ('chi', SelectKBest(chi2, k=2890)), ('clf', MultinomialNB(alpha=1))])\n",
    "model_NB = multinomial_NB_classifier.fit(data[\"text\"], data[\"sentiment\"])"
   ],
   "metadata": {
    "collapsed": false,
    "pycharm": {
     "name": "#%%\n"
    }
   }
  },
  {
   "cell_type": "code",
   "execution_count": 7,
   "outputs": [],
   "source": [
    "y_pred = model_NB.predict(X_test[0])"
   ],
   "metadata": {
    "collapsed": false,
    "pycharm": {
     "name": "#%%\n"
    }
   }
  },
  {
   "cell_type": "code",
   "execution_count": 8,
   "outputs": [
    {
     "name": "stdout",
     "output_type": "stream",
     "text": [
      "Naive Bayes classifier\n",
      "Accuracy: 0.7221830985915493\n",
      "Precision: 0.7250136680195828\n",
      "Recall: 0.7156678202410238\n",
      "F1-score: 0.7152080018428283\n"
     ]
    }
   ],
   "source": [
    "from sklearn.metrics import accuracy_score, precision_score, recall_score, f1_score\n",
    "labels = [1, 0, -1]\n",
    "print(\"Naive Bayes classifier\")\n",
    "print(\"Accuracy:\", accuracy_score(y_test, y_pred))\n",
    "print(\"Precision:\", precision_score(y_test, y_pred,labels=labels, average='macro'))\n",
    "print(\"Recall:\", recall_score(y_test, y_pred,labels=labels, average='macro'))\n",
    "print(\"F1-score:\", f1_score(y_test, y_pred,labels=labels, average='macro'))"
   ],
   "metadata": {
    "collapsed": false,
    "pycharm": {
     "name": "#%%\n"
    }
   }
  },
  {
   "cell_type": "code",
   "execution_count": 9,
   "outputs": [],
   "source": [
    "import matplotlib.pyplot as plt\n",
    "import numpy as np\n",
    "import itertools\n",
    "from sklearn.metrics import confusion_matrix\n",
    "\n",
    "def plot_confusion_matrix(cm, target_names, title='Confusion matrix'):\n",
    "\n",
    "    accuracy = np.trace(cm) / float(np.sum(cm))\n",
    "    misclass = 1 - accuracy\n",
    "\n",
    "    cmap = plt.get_cmap('Blues')\n",
    "\n",
    "    plt.figure(figsize=(8, 6))\n",
    "    plt.imshow(cm, interpolation='nearest', cmap=cmap)\n",
    "    plt.title(title)\n",
    "    plt.colorbar()\n",
    "\n",
    "    if target_names is not None:\n",
    "        tick_marks = np.arange(len(target_names))\n",
    "        plt.xticks(tick_marks, target_names, rotation=45)\n",
    "        plt.yticks(tick_marks, target_names)\n",
    "\n",
    "    thresh = cm.max() / 2\n",
    "    for i, j in itertools.product(range(cm.shape[0]), range(cm.shape[1])):\n",
    "        plt.text(j, i, \"{:,}\".format(cm[i, j]),\n",
    "                 horizontalalignment=\"center\",\n",
    "                 color=\"white\" if cm[i, j] > thresh else \"black\")\n",
    "\n",
    "    plt.tight_layout()\n",
    "    plt.ylabel('True label')\n",
    "    plt.xlabel('Predicted label\\naccuracy={:0.4f}; misclass={:0.4f}'.format(accuracy, misclass))\n",
    "    plt.show()\n",
    "\n",
    "def plot_confusion(pred_label, y_test, labels = [\"negative\", \"neutral\", \"positive\"]):\n",
    "    conf_mat = confusion_matrix(y_test, pred_label)\n",
    "    plot_confusion_matrix(conf_mat, labels)\n",
    "\n",
    "def get_correct_label_count(pred_label, original_label):\n",
    "    return np.sum(np.array(pred_label) == np.array(original_label))\n",
    "\n",
    "from sklearn.metrics import recall_score, f1_score\n",
    "\n",
    "def get_recall_scores(pred_label, original_label):\n",
    "    return recall_score(original_label, pred_label,labels=labels, average=None)\n",
    "\n",
    "\n",
    "def get_f1_scores(pred_label, original_label):\n",
    "    return f1_score(original_label, pred_label,labels=labels, average=None)\n",
    "\n",
    "def measure_and_print_metrics(pred_label, original_label):\n",
    "    print(\"-1: negative, 0: Neutral, 1:Positive\\n\")\n",
    "    print(f\"Accuracy:\")\n",
    "    print(f\"correct-count:{get_correct_label_count(pred_label, original_label)},\"\n",
    "          f\"correct_percentage: {get_correct_label_count(pred_label, original_label) / len(pred_label):.2f}% \"\n",
    "          f\"count: {len(pred_label)}\")\n",
    "    print(\"============================================\")\n",
    "    print(\"Recall values:\")\n",
    "    recall_score = get_recall_scores(pred_label,original_label)\n",
    "    print(recall_score)\n",
    "    print(f\"Recall score: {np.sum(recall_score)/3.0:.2f}\")\n",
    "    print(\"============================================\")\n",
    "    print(\"F1- scores:\")\n",
    "    f1_scores = get_f1_scores(pred_label, original_label)\n",
    "    print(f1_scores)\n",
    "    print(f\"F1_measure metric: {np.sum(f1_scores)/2.0:.2f}\")\n",
    "    print(\"=============================================\")\n",
    "    plot_confusion(pred_label, original_label)"
   ],
   "metadata": {
    "collapsed": false,
    "pycharm": {
     "name": "#%%\n"
    }
   }
  },
  {
   "cell_type": "code",
   "execution_count": 10,
   "outputs": [
    {
     "name": "stdout",
     "output_type": "stream",
     "text": [
      "-1: negative, 0: Neutral, 1:Positive\n",
      "\n",
      "Accuracy:\n",
      "correct-count:6153,correct_percentage: 0.72% count: 8520\n",
      "============================================\n",
      "Recall values:\n",
      "[0.82372003 0.56855298 0.75473045]\n",
      "Recall score: 0.72\n",
      "============================================\n",
      "F1- scores:\n",
      "[0.75857953 0.64083904 0.74620544]\n",
      "F1_measure metric: 1.07\n",
      "=============================================\n"
     ]
    },
    {
     "data": {
      "text/plain": "<Figure size 576x432 with 2 Axes>",
      "image/png": "[encoded data removed]"
     },
     "metadata": {
      "needs_background": "light"
     },
     "output_type": "display_data"
    }
   ],
   "source": [
    "measure_and_print_metrics(y_pred, y_test)"
   ],
   "metadata": {
    "collapsed": false,
    "pycharm": {
     "name": "#%%\n"
    }
   }
  },
  {
   "cell_type": "code",
   "execution_count": null,
   "outputs": [],
   "source": [],
   "metadata": {
    "collapsed": false,
    "pycharm": {
     "name": "#%%\n"
    }
   }
  },
  {
   "cell_type": "code",
   "execution_count": 10,
   "outputs": [],
   "source": [],
   "metadata": {
    "collapsed": false,
    "pycharm": {
     "name": "#%%\n"
    }
   }
  },
  {
   "cell_type": "code",
   "execution_count": 14,
   "outputs": [],
   "source": [
    "import pickle\n",
    "with open(\"models/multinomial_nb_model.pkl\", \"wb\") as f:\n",
    "    pickle.dump(model_NB, f)"
   ],
   "metadata": {
    "collapsed": false,
    "pycharm": {
     "name": "#%%\n"
    }
   }
  },
  {
   "cell_type": "code",
   "execution_count": null,
   "outputs": [],
   "source": [],
   "metadata": {
    "collapsed": false,
    "pycharm": {
     "name": "#%%\n"
    }
   }
  },
  {
   "cell_type": "code",
   "execution_count": null,
   "outputs": [],
   "source": [],
   "metadata": {
    "collapsed": false,
    "pycharm": {
     "name": "#%%\n"
    }
   }
  },
  {
   "cell_type": "code",
   "execution_count": null,
   "outputs": [],
   "source": [],
   "metadata": {
    "collapsed": false,
    "pycharm": {
     "name": "#%%\n"
    }
   }
  },
  {
   "cell_type": "code",
   "execution_count": null,
   "outputs": [],
   "source": [],
   "metadata": {
    "collapsed": false,
    "pycharm": {
     "name": "#%%\n"
    }
   }
  },
  {
   "cell_type": "code",
   "execution_count": null,
   "outputs": [],
   "source": [],
   "metadata": {
    "collapsed": false,
    "pycharm": {
     "name": "#%%\n"
    }
   }
  },
  {
   "cell_type": "code",
   "execution_count": 14,
   "outputs": [],
   "source": [],
   "metadata": {
    "collapsed": false,
    "pycharm": {
     "name": "#%%\n"
    }
   }
  },
  {
   "cell_type": "code",
   "execution_count": 14,
   "outputs": [],
   "source": [],
   "metadata": {
    "collapsed": false,
    "pycharm": {
     "name": "#%%\n"
    }
   }
  },
  {
   "cell_type": "code",
   "execution_count": null,
   "outputs": [],
   "source": [],
   "metadata": {
    "collapsed": false,
    "pycharm": {
     "name": "#%%\n"
    }
   }
  }
 ],
 "metadata": {
  "kernelspec": {
   "display_name": "Python 3",
   "language": "python",
   "name": "python3"
  },
  "language_info": {
   "codemirror_mode": {
    "name": "ipython",
    "version": 2
   },
   "file_extension": ".py",
   "mimetype": "text/x-python",
   "name": "python",
   "nbconvert_exporter": "python",
   "pygments_lexer": "ipython2",
   "version": "2.7.6"
  }
 },
 "nbformat": 4,
 "nbformat_minor": 0
}