{
  "nbformat": 4,
  "nbformat_minor": 0,
  "metadata": {
    "colab": {
      "provenance": []
    },
    "kernelspec": {
      "name": "python3",
      "display_name": "Python 3"
    },
    "language_info": {
      "name": "python"
    }
  },
  "cells": [
    {
      "cell_type": "code",
      "execution_count": 5,
      "metadata": {
        "colab": {
          "base_uri": "https://localhost:8080/"
        },
        "id": "wIWbUlcQtEbA",
        "outputId": "8af17564-bbd3-4c15-ec53-65fbba938424"
      },
      "outputs": [
        {
          "output_type": "stream",
          "name": "stdout",
          "text": [
            "Accuracy: 66.24%\n",
            "Classification Report:\n",
            "              precision    recall  f1-score   support\n",
            "\n",
            "        -1.0       0.69      0.73      0.71      7517\n",
            "         0.0       0.63      0.54      0.58      6971\n",
            "         1.0       0.66      0.70      0.68      8231\n",
            "\n",
            "    accuracy                           0.66     22719\n",
            "   macro avg       0.66      0.66      0.66     22719\n",
            "weighted avg       0.66      0.66      0.66     22719\n",
            "\n"
          ]
        }
      ],
      "source": [
        "import pandas as pd\n",
        "from sklearn.model_selection import train_test_split\n",
        "from sklearn.feature_extraction.text import CountVectorizer\n",
        "from sklearn.naive_bayes import MultinomialNB\n",
        "from sklearn.linear_model import LogisticRegression\n",
        "from sklearn.svm import SVC\n",
        "from sklearn.tree import DecisionTreeClassifier\n",
        "from sklearn.ensemble import VotingClassifier\n",
        "from sklearn.metrics import accuracy_score, classification_report\n",
        "\n",
        "# Load the CSV file into a DataFrame\n",
        "df = pd.read_csv(r'/content/pre_processed_final.csv')\n",
        "df.dropna(inplace=True)\n",
        "# Split the data into a training set and a test set\n",
        "train_df, test_df = train_test_split(df, test_size=0.8, random_state=42)\n",
        "\n",
        "# Extract the sentiment and text columns from the training set\n",
        "train_X = train_df['text']\n",
        "train_y = train_df['sentiment']\n",
        "\n",
        "# Extract the sentiment and text columns from the test set\n",
        "test_X = test_df['text']\n",
        "test_y = test_df['sentiment']\n",
        "\n",
        "# Initialize the vectorizer\n",
        "vectorizer = CountVectorizer()\n",
        "\n",
        "# Convert the text data into numerical features\n",
        "train_X = vectorizer.fit_transform(train_X)\n",
        "test_X = vectorizer.transform(test_X)\n",
        "\n",
        "# Initialize the classifiers\n",
        "nb = MultinomialNB()\n",
        "lr = LogisticRegression(max_iter=5000)\n",
        "svm = SVC(probability=True)\n",
        "dt = DecisionTreeClassifier()\n",
        "\n",
        "# Create the ensemble classifier using majority voting\n",
        "ensemble = VotingClassifier(estimators=[('nb', nb), ('lr', lr), ('svm', svm), ('dt', dt)], voting='soft',weights=[1, 1, 1, 1])\n",
        "\n",
        "# Fit the ensemble classifier to the training data\n",
        "ensemble.fit(train_X, train_y)\n",
        "\n",
        "# Predict the sentiment on the test data\n",
        "pred_y = ensemble.predict(test_X)\n",
        "\n",
        "# Calculate the accuracy of the ensemble classifier\n",
        "accuracy = accuracy_score(test_y, pred_y)\n",
        "\n",
        "# Print accuracy\n",
        "print(\"Accuracy: {:.2f}%\".format(accuracy * 100))\n",
        "\n",
        "# Print classification report\n",
        "print(\"Classification Report:\")\n",
        "print(classification_report(test_y, pred_y))\n"
      ]
    },
    {
      "cell_type": "code",
      "source": [],
      "metadata": {
        "id": "z1-kEIX3tV0J"
      },
      "execution_count": null,
      "outputs": []
    }
  ]
}