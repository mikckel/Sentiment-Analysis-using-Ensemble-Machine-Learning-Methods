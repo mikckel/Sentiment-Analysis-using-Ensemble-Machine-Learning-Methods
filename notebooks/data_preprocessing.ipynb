{
 "cells": [
  {
   "cell_type": "code",
   "execution_count": 2,
   "outputs": [],
   "source": [
    "import pandas as pd\n",
    "import numpy as np\n",
    "from sklearn.feature_extraction.text import CountVectorizer\n",
    "from sklearn.feature_extraction.text import TfidfTransformer\n",
    "from sklearn.model_selection import train_test_split\n",
    "from sklearn.naive_bayes import MultinomialNB\n",
    "from sklearn.metrics import classification_report\n",
    "from sklearn.pipeline import Pipeline\n",
    "import nltk\n",
    "from nltk.tokenize import word_tokenize\n",
    "from nltk.corpus import stopwords\n",
    "from nltk.stem import PorterStemmer\n",
    "from nltk import pos_tag"
   ],
   "metadata": {
    "collapsed": false,
    "pycharm": {
     "name": "#%%\n"
    }
   }
  },
  {
   "cell_type": "code",
   "execution_count": 3,
   "outputs": [],
   "source": [
    "def pre_process_data(dataset):\n",
    "    import re\n",
    "\n",
    "    # Read the TSV file\n",
    "    # df = pd.read_csv('Final_data_set_v1.csv', names=['id1', 'sentiment', 'text'])\n",
    "    df = dataset\n",
    "    # print(df.head())\n",
    "    # Convert the sentiment labels to numeric values\n",
    "    df['sentiment'] = df['sentiment'].replace({'positive': 1, 'neutral': 0, 'negative': -1})\n",
    "    # print(df.head())\n",
    "    # Remove URLs and mentions from the text\n",
    "    df['text'] = df['text'].apply(lambda x: str(x))\n",
    "    df['text'] = df['text'].apply(lambda x: re.sub(r\"http\\S+\", \"\", x))\n",
    "    df['text'] = df['text'].apply(lambda x: re.sub(r\"@\\S+\", \"\", x))\n",
    "    # print(df.head())\n",
    "    # Remove non-alphanumeric characters and convert to lowercase\n",
    "    df['text'] = df['text'].apply(lambda x: re.sub(r\"[^a-zA-Z0-9 ]+\", \"\", x.lower()))\n",
    "\n",
    "    # Remove leading and trailing whitespace\n",
    "    df['text'] = df['text'].apply(lambda x: x.strip())\n",
    "\n",
    "    # Drop any rows that contain empty text after preprocessing\n",
    "    df = df.drop(df[df['text'] == ''].index)\n",
    "\n",
    "    # Reset the index\n",
    "    # df = df.reset_index(drop=True)\n",
    "    return df\n",
    "    # Save the preprocessed data to a new TSV file\n",
    "    # df.to_csv('preprocessed_dataset_final_v1.csv', index=False)"
   ],
   "metadata": {
    "collapsed": false,
    "pycharm": {
     "name": "#%%\n"
    }
   }
  },
  {
   "cell_type": "code",
   "execution_count": 4,
   "outputs": [
    {
     "name": "stderr",
     "output_type": "stream",
     "text": [
      "/var/folders/q9/dwl1w3xx50q3vr_byfd3mb580000gn/T/ipykernel_73530/3118026714.py:9: SettingWithCopyWarning: \n",
      "A value is trying to be set on a copy of a slice from a DataFrame.\n",
      "Try using .loc[row_indexer,col_indexer] = value instead\n",
      "\n",
      "See the caveats in the documentation: https://pandas.pydata.org/pandas-docs/stable/user_guide/indexing.html#returning-a-view-versus-a-copy\n",
      "  df['sentiment'] = df['sentiment'].replace({'positive': 1, 'neutral': 0, 'negative': -1})\n",
      "/var/folders/q9/dwl1w3xx50q3vr_byfd3mb580000gn/T/ipykernel_73530/3118026714.py:12: SettingWithCopyWarning: \n",
      "A value is trying to be set on a copy of a slice from a DataFrame.\n",
      "Try using .loc[row_indexer,col_indexer] = value instead\n",
      "\n",
      "See the caveats in the documentation: https://pandas.pydata.org/pandas-docs/stable/user_guide/indexing.html#returning-a-view-versus-a-copy\n",
      "  df['text'] = df['text'].apply(lambda x: str(x))\n",
      "/var/folders/q9/dwl1w3xx50q3vr_byfd3mb580000gn/T/ipykernel_73530/3118026714.py:13: SettingWithCopyWarning: \n",
      "A value is trying to be set on a copy of a slice from a DataFrame.\n",
      "Try using .loc[row_indexer,col_indexer] = value instead\n",
      "\n",
      "See the caveats in the documentation: https://pandas.pydata.org/pandas-docs/stable/user_guide/indexing.html#returning-a-view-versus-a-copy\n",
      "  df['text'] = df['text'].apply(lambda x: re.sub(r\"http\\S+\", \"\", x))\n",
      "/var/folders/q9/dwl1w3xx50q3vr_byfd3mb580000gn/T/ipykernel_73530/3118026714.py:14: SettingWithCopyWarning: \n",
      "A value is trying to be set on a copy of a slice from a DataFrame.\n",
      "Try using .loc[row_indexer,col_indexer] = value instead\n",
      "\n",
      "See the caveats in the documentation: https://pandas.pydata.org/pandas-docs/stable/user_guide/indexing.html#returning-a-view-versus-a-copy\n",
      "  df['text'] = df['text'].apply(lambda x: re.sub(r\"@\\S+\", \"\", x))\n",
      "/var/folders/q9/dwl1w3xx50q3vr_byfd3mb580000gn/T/ipykernel_73530/3118026714.py:17: SettingWithCopyWarning: \n",
      "A value is trying to be set on a copy of a slice from a DataFrame.\n",
      "Try using .loc[row_indexer,col_indexer] = value instead\n",
      "\n",
      "See the caveats in the documentation: https://pandas.pydata.org/pandas-docs/stable/user_guide/indexing.html#returning-a-view-versus-a-copy\n",
      "  df['text'] = df['text'].apply(lambda x: re.sub(r\"[^a-zA-Z0-9 ]+\", \"\", x.lower()))\n",
      "/var/folders/q9/dwl1w3xx50q3vr_byfd3mb580000gn/T/ipykernel_73530/3118026714.py:20: SettingWithCopyWarning: \n",
      "A value is trying to be set on a copy of a slice from a DataFrame.\n",
      "Try using .loc[row_indexer,col_indexer] = value instead\n",
      "\n",
      "See the caveats in the documentation: https://pandas.pydata.org/pandas-docs/stable/user_guide/indexing.html#returning-a-view-versus-a-copy\n",
      "  df['text'] = df['text'].apply(lambda x: x.strip())\n"
     ]
    },
    {
     "data": {
      "text/plain": "       sentiment                                               text\n0            1.0  is lookin 4ward to a long weekend  really dont...\n1            1.0  myweakness  is music and i live to meet the pe...\n2            1.0            figured out the internet on my new ipod\n3            1.0  cant wait to worship with you guys tonight itl...\n4            1.0  congrats james  im sure the book is going to b...\n...          ...                                                ...\n28784        1.0  so disappointing on a lighter note get excited...\n28785        1.0  opportunity sat iia wolverine w puts us in the...\n28786        0.0  speaking of chris jericho it is wednesday toda...\n28787        0.0  im so jealous of everyone at the justin bieber...\n28788        0.0  trending tim tebow is now dating cave woman fr...\n\n[28777 rows x 2 columns]",
      "text/html": "<div>\n<style scoped>\n    .dataframe tbody tr th:only-of-type {\n        vertical-align: middle;\n    }\n\n    .dataframe tbody tr th {\n        vertical-align: top;\n    }\n\n    .dataframe thead th {\n        text-align: right;\n    }\n</style>\n<table border=\"1\" class=\"dataframe\">\n  <thead>\n    <tr style=\"text-align: right;\">\n      <th></th>\n      <th>sentiment</th>\n      <th>text</th>\n    </tr>\n  </thead>\n  <tbody>\n    <tr>\n      <th>0</th>\n      <td>1.0</td>\n      <td>is lookin 4ward to a long weekend  really dont...</td>\n    </tr>\n    <tr>\n      <th>1</th>\n      <td>1.0</td>\n      <td>myweakness  is music and i live to meet the pe...</td>\n    </tr>\n    <tr>\n      <th>2</th>\n      <td>1.0</td>\n      <td>figured out the internet on my new ipod</td>\n    </tr>\n    <tr>\n      <th>3</th>\n      <td>1.0</td>\n      <td>cant wait to worship with you guys tonight itl...</td>\n    </tr>\n    <tr>\n      <th>4</th>\n      <td>1.0</td>\n      <td>congrats james  im sure the book is going to b...</td>\n    </tr>\n    <tr>\n      <th>...</th>\n      <td>...</td>\n      <td>...</td>\n    </tr>\n    <tr>\n      <th>28784</th>\n      <td>1.0</td>\n      <td>so disappointing on a lighter note get excited...</td>\n    </tr>\n    <tr>\n      <th>28785</th>\n      <td>1.0</td>\n      <td>opportunity sat iia wolverine w puts us in the...</td>\n    </tr>\n    <tr>\n      <th>28786</th>\n      <td>0.0</td>\n      <td>speaking of chris jericho it is wednesday toda...</td>\n    </tr>\n    <tr>\n      <th>28787</th>\n      <td>0.0</td>\n      <td>im so jealous of everyone at the justin bieber...</td>\n    </tr>\n    <tr>\n      <th>28788</th>\n      <td>0.0</td>\n      <td>trending tim tebow is now dating cave woman fr...</td>\n    </tr>\n  </tbody>\n</table>\n<p>28777 rows × 2 columns</p>\n</div>"
     },
     "execution_count": 4,
     "metadata": {},
     "output_type": "execute_result"
    }
   ],
   "source": [
    "data = pd.read_csv(\"final_dataset/final.csv\", engine='python')\n",
    "data['sentiment'].value_counts()\n",
    "data_want = data[['sentiment', 'text']]\n",
    "data_want\n",
    "pre_processed_data_file = pre_process_data(data_want)\n",
    "pre_processed_data_file"
   ],
   "metadata": {
    "collapsed": false,
    "pycharm": {
     "name": "#%%\n"
    }
   }
  },
  {
   "cell_type": "code",
   "execution_count": 5,
   "outputs": [
    {
     "data": {
      "text/plain": "Empty DataFrame\nColumns: [sentiment, text]\nIndex: []",
      "text/html": "<div>\n<style scoped>\n    .dataframe tbody tr th:only-of-type {\n        vertical-align: middle;\n    }\n\n    .dataframe tbody tr th {\n        vertical-align: top;\n    }\n\n    .dataframe thead th {\n        text-align: right;\n    }\n</style>\n<table border=\"1\" class=\"dataframe\">\n  <thead>\n    <tr style=\"text-align: right;\">\n      <th></th>\n      <th>sentiment</th>\n      <th>text</th>\n    </tr>\n  </thead>\n  <tbody>\n  </tbody>\n</table>\n</div>"
     },
     "execution_count": 5,
     "metadata": {},
     "output_type": "execute_result"
    }
   ],
   "source": [
    "pre_processed_data_file[pre_processed_data_file['sentiment']==np.NaN]"
   ],
   "metadata": {
    "collapsed": false,
    "pycharm": {
     "name": "#%%\n"
    }
   }
  },
  {
   "cell_type": "code",
   "execution_count": 6,
   "outputs": [],
   "source": [
    "pre_processed_data_file.to_csv(\"final_dataset/pre_processed_final.csv\")"
   ],
   "metadata": {
    "collapsed": false,
    "pycharm": {
     "name": "#%%\n"
    }
   }
  },
  {
   "cell_type": "code",
   "execution_count": 7,
   "outputs": [
    {
     "data": {
      "text/plain": " 1.0    10265\n-1.0     9369\n 0.0     8764\nName: sentiment, dtype: int64"
     },
     "execution_count": 7,
     "metadata": {},
     "output_type": "execute_result"
    }
   ],
   "source": [
    "pre_processed_data_file['sentiment'].value_counts()"
   ],
   "metadata": {
    "collapsed": false,
    "pycharm": {
     "name": "#%%\n"
    }
   }
  },
  {
   "cell_type": "code",
   "execution_count": 8,
   "outputs": [],
   "source": [],
   "metadata": {
    "collapsed": false,
    "pycharm": {
     "name": "#%%\n"
    }
   }
  },
  {
   "cell_type": "code",
   "execution_count": null,
   "outputs": [],
   "source": [],
   "metadata": {
    "collapsed": false,
    "pycharm": {
     "name": "#%%\n"
    }
   }
  }
 ],
 "metadata": {
  "kernelspec": {
   "display_name": "Python 3",
   "language": "python",
   "name": "python3"
  },
  "language_info": {
   "codemirror_mode": {
    "name": "ipython",
    "version": 2
   },
   "file_extension": ".py",
   "mimetype": "text/x-python",
   "name": "python",
   "nbconvert_exporter": "python",
   "pygments_lexer": "ipython2",
   "version": "2.7.6"
  }
 },
 "nbformat": 4,
 "nbformat_minor": 0
}