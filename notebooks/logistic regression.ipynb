{
 "cells": [
  {
   "cell_type": "code",
   "execution_count": 1,
   "outputs": [],
   "source": [
    "import pandas as pd\n",
    "dataset_path = \"final_dataset/pre_processed_final.csv\"\n",
    "data = pd.read_csv(dataset_path)\n",
    "data = data[['text', 'sentiment']]\n",
    "data = data.dropna()"
   ],
   "metadata": {
    "collapsed": false,
    "pycharm": {
     "name": "#%%\n"
    }
   }
  },
  {
   "cell_type": "code",
   "execution_count": 2,
   "outputs": [
    {
     "name": "stderr",
     "output_type": "stream",
     "text": [
      "[nltk_data] Downloading package stopwords to\n",
      "[nltk_data]     /Users/bharathkumar/nltk_data...\n",
      "[nltk_data]   Package stopwords is already up-to-date!\n"
     ]
    }
   ],
   "source": [
    "import nltk\n",
    "import re\n",
    "\n",
    "nltk.download('stopwords')\n",
    "\n",
    "from nltk.corpus import stopwords\n",
    "stop_words = set(stopwords.words('english'))"
   ],
   "metadata": {
    "collapsed": false,
    "pycharm": {
     "name": "#%%\n"
    }
   }
  },
  {
   "cell_type": "code",
   "execution_count": 10,
   "outputs": [
    {
     "name": "stderr",
     "output_type": "stream",
     "text": [
      "/var/folders/q9/dwl1w3xx50q3vr_byfd3mb580000gn/T/ipykernel_5091/1922232401.py:32: SettingWithCopyWarning: \n",
      "A value is trying to be set on a copy of a slice from a DataFrame.\n",
      "Try using .loc[row_indexer,col_indexer] = value instead\n",
      "\n",
      "See the caveats in the documentation: https://pandas.pydata.org/pandas-docs/stable/user_guide/indexing.html#returning-a-view-versus-a-copy\n",
      "  twitter_data['text'] = twitter_data['text'].apply(preprocess_text)\n"
     ]
    },
    {
     "name": "stdout",
     "output_type": "stream",
     "text": [
      "Accuracy: 0.6936619718309859\n",
      "Confusion Matrix:\n",
      " [[1969  442  390]\n",
      " [ 423 1614  596]\n",
      " [ 283  476 2327]]\n",
      "Classification Report:\n",
      "               precision    recall  f1-score   support\n",
      "\n",
      "        -1.0       0.74      0.70      0.72      2801\n",
      "         0.0       0.64      0.61      0.62      2633\n",
      "         1.0       0.70      0.75      0.73      3086\n",
      "\n",
      "    accuracy                           0.69      8520\n",
      "   macro avg       0.69      0.69      0.69      8520\n",
      "weighted avg       0.69      0.69      0.69      8520\n",
      "\n",
      "Precision: 0.6919666901259752\n",
      "Recall: 0.6900009214137621\n",
      "F1-score: 0.6904716654746231\n"
     ]
    }
   ],
   "source": [
    "import pandas as pd\n",
    "import numpy as np\n",
    "import re\n",
    "import nltk\n",
    "from nltk.corpus import stopwords\n",
    "from sklearn.feature_extraction.text import CountVectorizer, TfidfTransformer\n",
    "from sklearn.metrics import accuracy_score, precision_score, recall_score, f1_score\n",
    "from sklearn.linear_model import LogisticRegression\n",
    "from sklearn.pipeline import Pipeline\n",
    "from sklearn.model_selection import train_test_split\n",
    "from sklearn.metrics import accuracy_score, confusion_matrix, classification_report\n",
    "\n",
    "# Load the Twitter data\n",
    "dataset_path = \"final_dataset/pre_processed_final.csv\"\n",
    "data = pd.read_csv(dataset_path)\n",
    "data = data[['text', 'sentiment']]\n",
    "twitter_data = data.dropna()\n",
    "\n",
    "# Preprocess the text data\n",
    "def preprocess_text(text):\n",
    "    text = re.sub(r'@[A-Za-z0-9]+', '', text) # Remove @mentions\n",
    "    text = re.sub(r'#', '', text) # Remove hashtags\n",
    "    text = re.sub(r'RT[\\s]+', '', text) # Remove retweets\n",
    "    text = re.sub(r'https?:\\/\\/\\S+', '', text) # Remove hyperlinks\n",
    "    text = re.sub(r'\\n', '', text) # Remove newlines\n",
    "    text = re.sub(r'[^\\w\\s]', '', text) # Remove punctuation\n",
    "    text = re.sub(r'\\d+', '', text) # Remove digits\n",
    "    text = text.lower() # Convert to lowercase\n",
    "    text = text.strip() # Remove leading/trailing white spaces\n",
    "    return text\n",
    "\n",
    "twitter_data['text'] = twitter_data['text'].apply(preprocess_text)\n",
    "\n",
    "# Define the logistic regression model\n",
    "logreg_model = Pipeline([\n",
    "    ('vect', CountVectorizer(stop_words='english')),\n",
    "    ('tfidf', TfidfTransformer()),\n",
    "    ('clf', LogisticRegression(max_iter=1000))\n",
    "])\n",
    "\n",
    "# Split the data into training and testing sets\n",
    "X_train, X_test, y_train, y_test = train_test_split(twitter_data['text'], twitter_data['sentiment'], test_size=0.3, random_state=32)\n",
    "\n",
    "# Train the logistic regression model\n",
    "logreg_model.fit(X_train, y_train)\n",
    "\n",
    "# Make predictions on the test set\n",
    "y_pred = logreg_model.predict(X_test)\n",
    "\n",
    "# Evaluate the model performance\n",
    "accuracy = accuracy_score(y_test, y_pred)\n",
    "conf_matrix = confusion_matrix(y_test, y_pred)\n",
    "class_report = classification_report(y_test, y_pred)\n",
    "labels = [-1,0,1]\n",
    "print(\"Accuracy:\", accuracy)\n",
    "print(\"Confusion Matrix:\\n\", conf_matrix)\n",
    "print(\"Classification Report:\\n\", class_report)\n",
    "print(\"Precision:\", precision_score(y_test, y_pred,labels=labels, average=\"macro\"))\n",
    "print(\"Recall:\", recall_score(y_test, y_pred,labels=labels, average=\"macro\"))\n",
    "print(\"F1-score:\", f1_score(y_test, y_pred,labels=labels, average=\"macro\"))"
   ],
   "metadata": {
    "collapsed": false,
    "pycharm": {
     "name": "#%%\n"
    }
   }
  },
  {
   "cell_type": "code",
   "execution_count": 6,
   "outputs": [],
   "source": [
    "import matplotlib.pyplot as plt\n",
    "import numpy as np\n",
    "import itertools\n",
    "from sklearn.metrics import confusion_matrix\n",
    "\n",
    "def plot_confusion_matrix(cm, target_names, title='Confusion matrix'):\n",
    "\n",
    "    accuracy = np.trace(cm) / float(np.sum(cm))\n",
    "    misclass = 1 - accuracy\n",
    "\n",
    "    cmap = plt.get_cmap('Blues')\n",
    "\n",
    "    plt.figure(figsize=(8, 6))\n",
    "    plt.imshow(cm, interpolation='nearest', cmap=cmap)\n",
    "    plt.title(title)\n",
    "    plt.colorbar()\n",
    "\n",
    "    if target_names is not None:\n",
    "        tick_marks = np.arange(len(target_names))\n",
    "        plt.xticks(tick_marks, target_names, rotation=45)\n",
    "        plt.yticks(tick_marks, target_names)\n",
    "\n",
    "    thresh = cm.max() / 2\n",
    "    for i, j in itertools.product(range(cm.shape[0]), range(cm.shape[1])):\n",
    "        plt.text(j, i, \"{:,}\".format(cm[i, j]),\n",
    "                 horizontalalignment=\"center\",\n",
    "                 color=\"white\" if cm[i, j] > thresh else \"black\")\n",
    "\n",
    "    plt.tight_layout()\n",
    "    plt.ylabel('True label')\n",
    "    plt.xlabel('Predicted label\\naccuracy={:0.4f}; misclass={:0.4f}'.format(accuracy, misclass))\n",
    "    plt.show()\n",
    "\n",
    "def plot_confusion(pred_label, y_test, labels = [\"negative\", \"neutral\", \"positive\"]):\n",
    "    conf_mat = confusion_matrix(y_test, pred_label)\n",
    "    plot_confusion_matrix(conf_mat, labels)\n",
    "\n",
    "def get_correct_label_count(pred_label, original_label):\n",
    "    return np.sum(np.array(pred_label) == np.array(original_label))\n",
    "\n",
    "from sklearn.metrics import recall_score, f1_score\n",
    "\n",
    "def get_recall_scores(pred_label, original_label):\n",
    "    return recall_score(original_label, pred_label,labels=labels, average=None)\n",
    "\n",
    "\n",
    "def get_f1_scores(pred_label, original_label):\n",
    "    return f1_score(original_label, pred_label,labels=labels, average=None)\n",
    "\n",
    "def measure_and_print_metrics(pred_label, original_label):\n",
    "    print(\"-1: negative, 0: Neutral, 1:Positive\\n\")\n",
    "    print(f\"Accuracy:\")\n",
    "    print(f\"correct-count:{get_correct_label_count(pred_label, original_label)},\"\n",
    "          f\"correct_percentage: {get_correct_label_count(pred_label, original_label) / len(pred_label):.2f}% \"\n",
    "          f\"count: {len(pred_label)}\")\n",
    "    print(\"============================================\")\n",
    "    print(\"Recall values:\")\n",
    "    recall_score = get_recall_scores(pred_label,original_label)\n",
    "    print(recall_score)\n",
    "    print(f\"Recall score: {np.sum(recall_score)/3.0:.2f}\")\n",
    "    print(\"============================================\")\n",
    "    print(\"F1- scores:\")\n",
    "    f1_scores = get_f1_scores(pred_label, original_label)\n",
    "    print(f1_scores)\n",
    "    print(f\"F1_measure metric: {np.sum(f1_scores)/2.0:.2f}\")\n",
    "    print(\"=============================================\")\n",
    "    plot_confusion(pred_label, original_label)"
   ],
   "metadata": {
    "collapsed": false,
    "pycharm": {
     "name": "#%%\n"
    }
   }
  },
  {
   "cell_type": "code",
   "execution_count": 11,
   "outputs": [
    {
     "name": "stdout",
     "output_type": "stream",
     "text": [
      "-1: negative, 0: Neutral, 1:Positive\n",
      "\n",
      "Accuracy:\n",
      "correct-count:5910,correct_percentage: 0.69% count: 8520\n",
      "============================================\n",
      "Recall values:\n",
      "[0.70296323 0.61298899 0.75405055]\n",
      "Recall score: 0.69\n",
      "============================================\n",
      "F1- scores:\n",
      "[0.71913806 0.6249758  0.72730114]\n",
      "F1_measure metric: 1.04\n",
      "=============================================\n"
     ]
    },
    {
     "data": {
      "text/plain": "<Figure size 576x432 with 2 Axes>",
      "image/png": "[encoded data removed]"
     },
     "metadata": {
      "needs_background": "light"
     },
     "output_type": "display_data"
    }
   ],
   "source": [
    "measure_and_print_metrics(y_pred, y_test)"
   ],
   "metadata": {
    "collapsed": false,
    "pycharm": {
     "name": "#%%\n"
    }
   }
  },
  {
   "cell_type": "code",
   "execution_count": 8,
   "outputs": [],
   "source": [
    "import pickle\n",
    "\n",
    "with open(\"models/logistic_regression.pkl\", \"wb\") as f:\n",
    "    pickle.dump(logreg_model, f)"
   ],
   "metadata": {
    "collapsed": false,
    "pycharm": {
     "name": "#%%\n"
    }
   }
  },
  {
   "cell_type": "code",
   "execution_count": null,
   "outputs": [],
   "source": [],
   "metadata": {
    "collapsed": false,
    "pycharm": {
     "name": "#%%\n"
    }
   }
  }
 ],
 "metadata": {
  "kernelspec": {
   "display_name": "Python 3",
   "language": "python",
   "name": "python3"
  },
  "language_info": {
   "codemirror_mode": {
    "name": "ipython",
    "version": 2
   },
   "file_extension": ".py",
   "mimetype": "text/x-python",
   "name": "python",
   "nbconvert_exporter": "python",
   "pygments_lexer": "ipython2",
   "version": "2.7.6"
  }
 },
 "nbformat": 4,
 "nbformat_minor": 0
}