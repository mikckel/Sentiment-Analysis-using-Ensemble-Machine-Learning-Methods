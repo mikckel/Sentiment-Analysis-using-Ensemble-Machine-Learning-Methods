{
  "nbformat": 4,
  "nbformat_minor": 0,
  "metadata": {
    "colab": {
      "provenance": []
    },
    "kernelspec": {
      "name": "python3",
      "display_name": "Python 3"
    },
    "language_info": {
      "name": "python"
    }
  },
  "cells": [
    {
      "cell_type": "code",
      "execution_count": 1,
      "metadata": {
        "colab": {
          "base_uri": "https://localhost:8080/"
        },
        "id": "wif774WoOm3J",
        "outputId": "7f3b8b06-977d-422b-daa5-60090f9f27a1"
      },
      "outputs": [
        {
          "output_type": "stream",
          "name": "stdout",
          "text": [
            "Accuracy: 0.6652581539680443\n",
            "Classification Report:\n",
            "               precision    recall  f1-score   support\n",
            "\n",
            "        -1.0       0.71      0.70      0.70      7528\n",
            "         0.0       0.61      0.62      0.61      6948\n",
            "         1.0       0.68      0.68      0.68      8243\n",
            "\n",
            "    accuracy                           0.67     22719\n",
            "   macro avg       0.66      0.66      0.66     22719\n",
            "weighted avg       0.67      0.67      0.67     22719\n",
            "\n"
          ]
        }
      ],
      "source": [
        "import pandas as pd\n",
        "import sklearn.model_selection as model_selection\n",
        "import sklearn.feature_extraction.text as text\n",
        "import sklearn.svm as svm\n",
        "import sklearn.metrics as metrics\n",
        "\n",
        "# Load the CSV file\n",
        "df = pd.read_csv(r'/content/pre_processed_final.csv')\n",
        "df.dropna(inplace=True)\n",
        "\n",
        "\n",
        "# Split the data into training and test sets\n",
        "train_df, test_df = model_selection.train_test_split(df, test_size=0.8, random_state=2)\n",
        "\n",
        "# Extract the text and sentiment columns\n",
        "train_texts = train_df['text'].values\n",
        "train_sentiments = train_df['sentiment'].values\n",
        "test_texts = test_df['text'].values\n",
        "test_sentiments = test_df['sentiment'].values\n",
        "\n",
        "# Vectorize the text data using TF-IDF\n",
        "vectorizer = text.TfidfVectorizer(max_features=5000)\n",
        "train_vectors = vectorizer.fit_transform(train_texts)\n",
        "test_vectors = vectorizer.transform(test_texts)\n",
        "\n",
        "# Train an SVM classifier\n",
        "svm = svm.SVC(kernel='linear')\n",
        "svm.fit(train_vectors, train_sentiments)\n",
        "\n",
        "# Predict on the test set\n",
        "predicted_sentiments = svm.predict(test_vectors)\n",
        "\n",
        "# Evaluate the model\n",
        "accuracy = metrics.accuracy_score(test_sentiments, predicted_sentiments)\n",
        "classification_report = metrics.classification_report(test_sentiments, predicted_sentiments)\n",
        "\n",
        "print(\"Accuracy:\", accuracy)\n",
        "print(\"Classification Report:\\n\", classification_report)"
      ]
    }
  ]
}