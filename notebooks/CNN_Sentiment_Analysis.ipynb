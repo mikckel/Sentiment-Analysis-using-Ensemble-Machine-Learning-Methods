{
  "nbformat": 4,
  "nbformat_minor": 0,
  "metadata": {
    "colab": {
      "provenance": [],
      "gpuType": "T4"
    },
    "kernelspec": {
      "name": "python3",
      "display_name": "Python 3"
    },
    "language_info": {
      "name": "python"
    },
    "accelerator": "GPU",
    "gpuClass": "standard"
  },
  "cells": [
    {
      "cell_type": "code",
      "execution_count": 1,
      "metadata": {
        "id": "RI9TjkP0z0yD"
      },
      "outputs": [],
      "source": [
        "import pandas as pd\n",
        "import numpy as np\n",
        "import tensorflow as tf\n",
        "from tensorflow.keras.preprocessing.text import Tokenizer\n",
        "from tensorflow.keras.preprocessing.sequence import pad_sequences\n",
        "from tensorflow.keras.layers import Embedding, Conv1D, MaxPooling1D, Dropout, Dense, Input, concatenate, GRU\n",
        "from tensorflow.keras.models import Model\n",
        "from sklearn.model_selection import train_test_split"
      ]
    },
    {
      "cell_type": "code",
      "source": [
        "# Load data\n",
        "data = pd.read_csv(\"/content/pre_processed_final.csv\")\n",
        "print(data.shape)"
      ],
      "metadata": {
        "colab": {
          "base_uri": "https://localhost:8080/"
        },
        "id": "PbHJyoZCz3yk",
        "outputId": "cf000755-db60-4e52-bf56-208af27a80df"
      },
      "execution_count": 2,
      "outputs": [
        {
          "output_type": "stream",
          "name": "stdout",
          "text": [
            "(28777, 3)\n"
          ]
        }
      ]
    },
    {
      "cell_type": "code",
      "source": [
        "data = data[[\"sentiment\", \"text\"]]\n",
        "df = data.dropna()\n",
        "df.head()"
      ],
      "metadata": {
        "colab": {
          "base_uri": "https://localhost:8080/",
          "height": 206
        },
        "id": "IF0NZlMPz7PG",
        "outputId": "adc21413-bd0e-45f9-ea5a-f076773055db"
      },
      "execution_count": 3,
      "outputs": [
        {
          "output_type": "execute_result",
          "data": {
            "text/plain": [
              "   sentiment                                               text\n",
              "0        1.0  is lookin 4ward to a long weekend  really dont...\n",
              "1        1.0  myweakness  is music and i live to meet the pe...\n",
              "2        1.0            figured out the internet on my new ipod\n",
              "3        1.0  cant wait to worship with you guys tonight itl...\n",
              "4        1.0  congrats james  im sure the book is going to b..."
            ],
            "text/html": [
              "\n",
              "  <div id=\"df-eeafc553-9458-401d-bf68-8e3cc8f49080\">\n",
              "    <div class=\"colab-df-container\">\n",
              "      <div>\n",
              "<style scoped>\n",
              "    .dataframe tbody tr th:only-of-type {\n",
              "        vertical-align: middle;\n",
              "    }\n",
              "\n",
              "    .dataframe tbody tr th {\n",
              "        vertical-align: top;\n",
              "    }\n",
              "\n",
              "    .dataframe thead th {\n",
              "        text-align: right;\n",
              "    }\n",
              "</style>\n",
              "<table border=\"1\" class=\"dataframe\">\n",
              "  <thead>\n",
              "    <tr style=\"text-align: right;\">\n",
              "      <th></th>\n",
              "      <th>sentiment</th>\n",
              "      <th>text</th>\n",
              "    </tr>\n",
              "  </thead>\n",
              "  <tbody>\n",
              "    <tr>\n",
              "      <th>0</th>\n",
              "      <td>1.0</td>\n",
              "      <td>is lookin 4ward to a long weekend  really dont...</td>\n",
              "    </tr>\n",
              "    <tr>\n",
              "      <th>1</th>\n",
              "      <td>1.0</td>\n",
              "      <td>myweakness  is music and i live to meet the pe...</td>\n",
              "    </tr>\n",
              "    <tr>\n",
              "      <th>2</th>\n",
              "      <td>1.0</td>\n",
              "      <td>figured out the internet on my new ipod</td>\n",
              "    </tr>\n",
              "    <tr>\n",
              "      <th>3</th>\n",
              "      <td>1.0</td>\n",
              "      <td>cant wait to worship with you guys tonight itl...</td>\n",
              "    </tr>\n",
              "    <tr>\n",
              "      <th>4</th>\n",
              "      <td>1.0</td>\n",
              "      <td>congrats james  im sure the book is going to b...</td>\n",
              "    </tr>\n",
              "  </tbody>\n",
              "</table>\n",
              "</div>\n",
              "      <button class=\"colab-df-convert\" onclick=\"convertToInteractive('df-eeafc553-9458-401d-bf68-8e3cc8f49080')\"\n",
              "              title=\"Convert this dataframe to an interactive table.\"\n",
              "              style=\"display:none;\">\n",
              "        \n",
              "  <svg xmlns=\"http://www.w3.org/2000/svg\" height=\"24px\"viewBox=\"0 0 24 24\"\n",
              "       width=\"24px\">\n",
              "    <path d=\"M0 0h24v24H0V0z\" fill=\"none\"/>\n",
              "    <path d=\"M18.56 5.44l.94 2.06.94-2.06 2.06-.94-2.06-.94-.94-2.06-.94 2.06-2.06.94zm-11 1L8.5 8.5l.94-2.06 2.06-.94-2.06-.94L8.5 2.5l-.94 2.06-2.06.94zm10 10l.94 2.06.94-2.06 2.06-.94-2.06-.94-.94-2.06-.94 2.06-2.06.94z\"/><path d=\"M17.41 7.96l-1.37-1.37c-.4-.4-.92-.59-1.43-.59-.52 0-1.04.2-1.43.59L10.3 9.45l-7.72 7.72c-.78.78-.78 2.05 0 2.83L4 21.41c.39.39.9.59 1.41.59.51 0 1.02-.2 1.41-.59l7.78-7.78 2.81-2.81c.8-.78.8-2.07 0-2.86zM5.41 20L4 18.59l7.72-7.72 1.47 1.35L5.41 20z\"/>\n",
              "  </svg>\n",
              "      </button>\n",
              "      \n",
              "  <style>\n",
              "    .colab-df-container {\n",
              "      display:flex;\n",
              "      flex-wrap:wrap;\n",
              "      gap: 12px;\n",
              "    }\n",
              "\n",
              "    .colab-df-convert {\n",
              "      background-color: #E8F0FE;\n",
              "      border: none;\n",
              "      border-radius: 50%;\n",
              "      cursor: pointer;\n",
              "      display: none;\n",
              "      fill: #1967D2;\n",
              "      height: 32px;\n",
              "      padding: 0 0 0 0;\n",
              "      width: 32px;\n",
              "    }\n",
              "\n",
              "    .colab-df-convert:hover {\n",
              "      background-color: #E2EBFA;\n",
              "      box-shadow: 0px 1px 2px rgba(60, 64, 67, 0.3), 0px 1px 3px 1px rgba(60, 64, 67, 0.15);\n",
              "      fill: #174EA6;\n",
              "    }\n",
              "\n",
              "    [theme=dark] .colab-df-convert {\n",
              "      background-color: #3B4455;\n",
              "      fill: #D2E3FC;\n",
              "    }\n",
              "\n",
              "    [theme=dark] .colab-df-convert:hover {\n",
              "      background-color: #434B5C;\n",
              "      box-shadow: 0px 1px 3px 1px rgba(0, 0, 0, 0.15);\n",
              "      filter: drop-shadow(0px 1px 2px rgba(0, 0, 0, 0.3));\n",
              "      fill: #FFFFFF;\n",
              "    }\n",
              "  </style>\n",
              "\n",
              "      <script>\n",
              "        const buttonEl =\n",
              "          document.querySelector('#df-eeafc553-9458-401d-bf68-8e3cc8f49080 button.colab-df-convert');\n",
              "        buttonEl.style.display =\n",
              "          google.colab.kernel.accessAllowed ? 'block' : 'none';\n",
              "\n",
              "        async function convertToInteractive(key) {\n",
              "          const element = document.querySelector('#df-eeafc553-9458-401d-bf68-8e3cc8f49080');\n",
              "          const dataTable =\n",
              "            await google.colab.kernel.invokeFunction('convertToInteractive',\n",
              "                                                     [key], {});\n",
              "          if (!dataTable) return;\n",
              "\n",
              "          const docLinkHtml = 'Like what you see? Visit the ' +\n",
              "            '<a target=\"_blank\" href=https://colab.research.google.com/notebooks/data_table.ipynb>data table notebook</a>'\n",
              "            + ' to learn more about interactive tables.';\n",
              "          element.innerHTML = '';\n",
              "          dataTable['output_type'] = 'display_data';\n",
              "          await google.colab.output.renderOutput(dataTable, element);\n",
              "          const docLink = document.createElement('div');\n",
              "          docLink.innerHTML = docLinkHtml;\n",
              "          element.appendChild(docLink);\n",
              "        }\n",
              "      </script>\n",
              "    </div>\n",
              "  </div>\n",
              "  "
            ]
          },
          "metadata": {},
          "execution_count": 3
        }
      ]
    },
    {
      "cell_type": "code",
      "source": [
        "# Preprocessing\n",
        "df['sentiment'] = df['sentiment'].replace({1: 0, 0: 1, -1: 2})\n",
        "sentences = df['text'].tolist()\n",
        "labels = df['sentiment'].tolist()"
      ],
      "metadata": {
        "colab": {
          "base_uri": "https://localhost:8080/"
        },
        "id": "ghI5bKNIz9B9",
        "outputId": "d886861a-19ec-43bb-ff8c-3a7b1d89a2f2"
      },
      "execution_count": 4,
      "outputs": [
        {
          "output_type": "stream",
          "name": "stderr",
          "text": [
            "<ipython-input-4-b0a62a0d18e3>:2: SettingWithCopyWarning: \n",
            "A value is trying to be set on a copy of a slice from a DataFrame.\n",
            "Try using .loc[row_indexer,col_indexer] = value instead\n",
            "\n",
            "See the caveats in the documentation: https://pandas.pydata.org/pandas-docs/stable/user_guide/indexing.html#returning-a-view-versus-a-copy\n",
            "  df['sentiment'] = df['sentiment'].replace({1: 0, 0: 1, -1: 2})\n"
          ]
        }
      ]
    },
    {
      "cell_type": "code",
      "source": [
        "# Tokenization\n",
        "tokenizer = Tokenizer(num_words=5000, oov_token=\"<OOV>\")\n",
        "tokenizer.fit_on_texts(sentences)\n",
        "word_index = tokenizer.word_index\n",
        "print('Found %s unique tokens.' % len(word_index))"
      ],
      "metadata": {
        "colab": {
          "base_uri": "https://localhost:8080/"
        },
        "id": "IuRjRJnA0AaX",
        "outputId": "e6b2c6eb-4c14-4490-e96e-9eb29bea4a43"
      },
      "execution_count": 5,
      "outputs": [
        {
          "output_type": "stream",
          "name": "stdout",
          "text": [
            "Found 30652 unique tokens.\n"
          ]
        }
      ]
    },
    {
      "cell_type": "code",
      "source": [
        "# Convert text data to sequence\n",
        "X = tokenizer.texts_to_sequences(sentences)\n",
        "X = pad_sequences(X, padding='post', maxlen=100)"
      ],
      "metadata": {
        "id": "KV_ekn4H0Cuk"
      },
      "execution_count": 6,
      "outputs": []
    },
    {
      "cell_type": "code",
      "source": [
        "# Convert labels to categorical format\n",
        "y = tf.keras.utils.to_categorical(labels, num_classes=3)"
      ],
      "metadata": {
        "id": "57-j1yF-0FIt"
      },
      "execution_count": 7,
      "outputs": []
    },
    {
      "cell_type": "code",
      "source": [
        "# Split into train and test data\n",
        "X_train, X_test, y_train, y_test = train_test_split(X, y, test_size=0.2, random_state=42)"
      ],
      "metadata": {
        "id": "vPrp2sCo0G3I"
      },
      "execution_count": 8,
      "outputs": []
    },
    {
      "cell_type": "code",
      "source": [
        "# Define model architecture\n",
        "inputs = Input(shape=(100,))\n",
        "embedding = Embedding(input_dim=5000, output_dim=100, input_length=100)(inputs)\n",
        "conv1 = Conv1D(filters=128, kernel_size=3, padding='valid', activation='relu', strides=1)(embedding)\n",
        "pool1 = MaxPooling1D(pool_size=2)(conv1)\n",
        "conv2 = Conv1D(filters=64, kernel_size=3, padding='valid', activation='relu', strides=1)(pool1)\n",
        "pool2 = MaxPooling1D(pool_size=2)(conv2)\n",
        "gru = GRU(64)(pool2)\n",
        "dense1 = Dense(64, activation='relu')(gru)\n",
        "dropout = Dropout(0.5)(dense1)\n",
        "outputs = Dense(3, activation='softmax')(dropout)"
      ],
      "metadata": {
        "id": "HQUK8S5y0I6o"
      },
      "execution_count": 9,
      "outputs": []
    },
    {
      "cell_type": "code",
      "source": [
        "model = Model(inputs=inputs, outputs=outputs)\n",
        "model.compile(loss='categorical_crossentropy', optimizer='adam', metrics=['accuracy'])\n",
        "print(model.summary())"
      ],
      "metadata": {
        "colab": {
          "base_uri": "https://localhost:8080/"
        },
        "id": "bdZHz_je0KeG",
        "outputId": "04e579ce-3b42-48f9-8a55-ffbb8ace4a20"
      },
      "execution_count": 10,
      "outputs": [
        {
          "output_type": "stream",
          "name": "stdout",
          "text": [
            "Model: \"model\"\n",
            "_________________________________________________________________\n",
            " Layer (type)                Output Shape              Param #   \n",
            "=================================================================\n",
            " input_1 (InputLayer)        [(None, 100)]             0         \n",
            "                                                                 \n",
            " embedding (Embedding)       (None, 100, 100)          500000    \n",
            "                                                                 \n",
            " conv1d (Conv1D)             (None, 98, 128)           38528     \n",
            "                                                                 \n",
            " max_pooling1d (MaxPooling1D  (None, 49, 128)          0         \n",
            " )                                                               \n",
            "                                                                 \n",
            " conv1d_1 (Conv1D)           (None, 47, 64)            24640     \n",
            "                                                                 \n",
            " max_pooling1d_1 (MaxPooling  (None, 23, 64)           0         \n",
            " 1D)                                                             \n",
            "                                                                 \n",
            " gru (GRU)                   (None, 64)                24960     \n",
            "                                                                 \n",
            " dense (Dense)               (None, 64)                4160      \n",
            "                                                                 \n",
            " dropout (Dropout)           (None, 64)                0         \n",
            "                                                                 \n",
            " dense_1 (Dense)             (None, 3)                 195       \n",
            "                                                                 \n",
            "=================================================================\n",
            "Total params: 592,483\n",
            "Trainable params: 592,483\n",
            "Non-trainable params: 0\n",
            "_________________________________________________________________\n",
            "None\n"
          ]
        }
      ]
    },
    {
      "cell_type": "code",
      "source": [
        "# Train model\n",
        "model.fit(X_train, y_train, batch_size=32, epochs=10, validation_data=(X_test, y_test))"
      ],
      "metadata": {
        "colab": {
          "base_uri": "https://localhost:8080/"
        },
        "id": "m4opr7K-0MJJ",
        "outputId": "90ae0aea-8b01-4617-9cc0-0df7b33e30d2"
      },
      "execution_count": 11,
      "outputs": [
        {
          "output_type": "stream",
          "name": "stdout",
          "text": [
            "Epoch 1/10\n",
            "710/710 [==============================] - 47s 45ms/step - loss: 1.0971 - accuracy: 0.3571 - val_loss: 1.0981 - val_accuracy: 0.3607\n",
            "Epoch 2/10\n",
            "710/710 [==============================] - 9s 12ms/step - loss: 1.0534 - accuracy: 0.4113 - val_loss: 0.9131 - val_accuracy: 0.5306\n",
            "Epoch 3/10\n",
            "710/710 [==============================] - 10s 14ms/step - loss: 0.8207 - accuracy: 0.6041 - val_loss: 0.7778 - val_accuracy: 0.6565\n",
            "Epoch 4/10\n",
            "710/710 [==============================] - 7s 10ms/step - loss: 0.6772 - accuracy: 0.7200 - val_loss: 0.7211 - val_accuracy: 0.6877\n",
            "Epoch 5/10\n",
            "710/710 [==============================] - 7s 10ms/step - loss: 0.5708 - accuracy: 0.7741 - val_loss: 0.7251 - val_accuracy: 0.6910\n",
            "Epoch 6/10\n",
            "710/710 [==============================] - 6s 9ms/step - loss: 0.4960 - accuracy: 0.8114 - val_loss: 0.7663 - val_accuracy: 0.6835\n",
            "Epoch 7/10\n",
            "710/710 [==============================] - 7s 10ms/step - loss: 0.4239 - accuracy: 0.8440 - val_loss: 0.8609 - val_accuracy: 0.6840\n",
            "Epoch 8/10\n",
            "710/710 [==============================] - 7s 9ms/step - loss: 0.3613 - accuracy: 0.8690 - val_loss: 0.9024 - val_accuracy: 0.6729\n",
            "Epoch 9/10\n",
            "710/710 [==============================] - 8s 11ms/step - loss: 0.3108 - accuracy: 0.8897 - val_loss: 0.9657 - val_accuracy: 0.6738\n",
            "Epoch 10/10\n",
            "710/710 [==============================] - 8s 11ms/step - loss: 0.2735 - accuracy: 0.9020 - val_loss: 1.1010 - val_accuracy: 0.6637\n"
          ]
        },
        {
          "output_type": "execute_result",
          "data": {
            "text/plain": [
              "<keras.callbacks.History at 0x7fdcb936fc70>"
            ]
          },
          "metadata": {},
          "execution_count": 11
        }
      ]
    },
    {
      "cell_type": "code",
      "source": [
        "from sklearn.metrics import classification_report\n",
        "\n",
        "# Predict on test data\n",
        "predictions = model.predict(X_test)\n",
        "predicted_labels = np.argmax(predictions, axis=1)\n",
        "print(predicted_labels)\n",
        "print(classification_report(y_test.argmax(axis=1), predicted_labels))"
      ],
      "metadata": {
        "colab": {
          "base_uri": "https://localhost:8080/"
        },
        "id": "f7Lk55e70NvP",
        "outputId": "fa42aeb6-366f-4a84-c615-107f65665f7d"
      },
      "execution_count": 13,
      "outputs": [
        {
          "output_type": "stream",
          "name": "stdout",
          "text": [
            "178/178 [==============================] - 0s 3ms/step\n",
            "[0 0 1 ... 0 0 1]\n",
            "              precision    recall  f1-score   support\n",
            "\n",
            "           0       0.66      0.72      0.69      2049\n",
            "           1       0.60      0.61      0.61      1827\n",
            "           2       0.74      0.65      0.69      1804\n",
            "\n",
            "    accuracy                           0.66      5680\n",
            "   macro avg       0.67      0.66      0.66      5680\n",
            "weighted avg       0.67      0.66      0.66      5680\n",
            "\n"
          ]
        }
      ]
    },
    {
      "cell_type": "code",
      "source": [
        "import pickle\n",
        "\n",
        "# Save the model using pickle\n",
        "with open('cnn.pkl', 'wb') as file:\n",
        "    pickle.dump(model, file)"
      ],
      "metadata": {
        "id": "NmFgMcj-1q0-"
      },
      "execution_count": 15,
      "outputs": []
    }
  ]
}