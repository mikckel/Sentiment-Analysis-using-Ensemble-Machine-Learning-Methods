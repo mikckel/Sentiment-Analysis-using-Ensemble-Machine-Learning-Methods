{
  "nbformat": 4,
  "nbformat_minor": 0,
  "metadata": {
    "colab": {
      "provenance": []
    },
    "kernelspec": {
      "name": "python3",
      "display_name": "Python 3"
    },
    "accelerator": "GPU"
  },
  "cells": [
    {
      "cell_type": "code",
      "metadata": {
        "id": "x4XtWvnjxdMn",
        "pycharm": {
          "name": "#%%\n"
        }
      },
      "source": [],
      "execution_count": null,
      "outputs": []
    },
    {
      "cell_type": "code",
      "metadata": {
        "id": "o3VVMseVxmFL",
        "pycharm": {
          "name": "#%%\n"
        }
      },
      "source": [
        "# !kaggle datasets download fullmetal26/glovetwitter27b100dtxt\n",
        "# !unzip glovetwitter27b100dtxt.zip"
      ],
      "execution_count": 1,
      "outputs": []
    },
    {
      "cell_type": "code",
      "metadata": {
        "id": "LUDYEREAydsp",
        "pycharm": {
          "name": "#%%\n",
          "is_executing": true
        }
      },
      "source": [
        "import tensorflow.keras\n",
        "from tensorflow.keras.models import Sequential\n",
        "from tensorflow.keras.layers import InputLayer, Dense, SimpleRNN, Activation, Dropout, Conv1D\n",
        "from tensorflow.keras.layers import Embedding, Flatten, LSTM, GRU\n",
        "from tensorflow.keras.preprocessing.text import Tokenizer\n",
        "from tensorflow.keras.preprocessing.sequence import pad_sequences\n",
        "from tensorflow.keras.callbacks import EarlyStopping\n",
        "import pandas as pd\n",
        "import numpy as np\n",
        "import spacy\n",
        "from sklearn.metrics import classification_report"
      ],
      "execution_count": 2,
      "outputs": []
    },
    {
      "cell_type": "code",
      "metadata": {
        "id": "PpCzwdqF1V28",
        "colab": {
          "base_uri": "https://localhost:8080/"
        },
        "outputId": "8b5ac695-521c-4058-c2c4-c3a46851f3a2",
        "pycharm": {
          "name": "#%%\n",
          "is_executing": true
        }
      },
      "source": [
        "def load_glove_model(glove_file):\n",
        "    print(\"[INFO]Loading GloVe Model...\")\n",
        "    model = {}\n",
        "    with open(glove_file, 'r', encoding=\"utf-8\") as f:\n",
        "        for line in f:\n",
        "            split_line = line.split()\n",
        "            word = split_line[0]\n",
        "            embeddings = [float(val) for val in split_line[1:]]\n",
        "            model[word] = embeddings\n",
        "    print(\"[INFO] Done...{} words loaded!\".format(len(model)))\n",
        "    return model\n",
        "glove_model = load_glove_model(\"/content/glove.twitter.27B.100d.txt\")"
      ],
      "execution_count": 5,
      "outputs": [
        {
          "output_type": "stream",
          "name": "stdout",
          "text": [
            "[INFO]Loading GloVe Model...\n",
            "[INFO] Done...531093 words loaded!\n"
          ]
        }
      ]
    },
    {
      "cell_type": "code",
      "source": [
        "# calcultaete number of words\n",
        "nb_words = len(tokenizer.word_index) + 1\n",
        "\n",
        "# obtain the word embedding matrix\n",
        "embedding_matrix = np.zeros((nb_words, 100))\n",
        "for word, i in word_index.items():\n",
        "    embedding_vector = glove_model.get(word)\n",
        "    if embedding_vector is not None:\n",
        "        embedding_matrix[i] = embedding_vector\n",
        "print('Null word embeddings: %d' % np.sum(np.sum(embedding_matrix, axis=1) == 0))"
      ],
      "metadata": {
        "id": "nTA-aVZ1y1Yv",
        "colab": {
          "base_uri": "https://localhost:8080/"
        },
        "outputId": "4ad261f0-1f87-4dd6-fac6-78a1cba76d77"
      },
      "execution_count": 19,
      "outputs": [
        {
          "output_type": "stream",
          "name": "stdout",
          "text": [
            "Null word embeddings: 10931\n"
          ]
        }
      ]
    },
    {
      "cell_type": "code",
      "metadata": {
        "id": "OfhlThm6d-Z3",
        "pycharm": {
          "name": "#%%\n"
        }
      },
      "source": [
        "# adopted from utils.py\n",
        "nlp = spacy.load(\"en_core_web_sm\")\n",
        "\n",
        "def remove_stopwords(sentence):\n",
        "    '''\n",
        "    function to remove stopwords\n",
        "        input: sentence - string of sentence\n",
        "    '''\n",
        "    new = []\n",
        "    # tokenize sentence\n",
        "    sentence = nlp(sentence)\n",
        "    for tk in sentence:\n",
        "        if (tk.is_stop == False) & (tk.pos_ !=\"PUNCT\"):\n",
        "            new.append(tk.string.strip())\n",
        "    # convert back to sentence string\n",
        "    c = \" \".join(str(x) for x in new)\n",
        "    return c\n",
        "\n",
        "\n",
        "def lemmatize(sentence):\n",
        "    '''\n",
        "    function to do lemmatization\n",
        "        input: sentence - string of sentence\n",
        "    '''\n",
        "    sentence = nlp(sentence)\n",
        "    s = \"\"\n",
        "    for w in sentence:\n",
        "        s +=\" \"+w.lemma_\n",
        "    return nlp(s)\n",
        "\n",
        "def sent_vectorizer(sent, model):\n",
        "    '''\n",
        "    sentence vectorizer using the pretrained glove model\n",
        "    '''\n",
        "    sent_vector = np.zeros(200)\n",
        "    num_w = 0\n",
        "    for w in sent.split():\n",
        "        try:\n",
        "            # add up all token vectors to a sent_vector\n",
        "            sent_vector = np.add(sent_vector, model[str(w)])\n",
        "            num_w += 1\n",
        "        except:\n",
        "            pass\n",
        "    return sent_vector"
      ],
      "execution_count": 6,
      "outputs": []
    },
    {
      "cell_type": "code",
      "metadata": {
        "id": "AQo2fseg2TIu",
        "pycharm": {
          "name": "#%%\n"
        }
      },
      "source": [
        "# !wget https://raw.githubusercontent.com/haochen23/nlp-rnn-lstm-sentiment/master/training.1600000.processed.noemoticon.csv"
      ],
      "execution_count": 7,
      "outputs": []
    },
    {
      "cell_type": "code",
      "metadata": {
        "id": "TFAlVSfR-LOf",
        "colab": {
          "base_uri": "https://localhost:8080/",
          "height": 223
        },
        "outputId": "512c3021-9609-4853-e5cf-bebd566b6fec",
        "pycharm": {
          "name": "#%%\n"
        }
      },
      "source": [
        "# data = pd.read_csv(\"training.1600000.processed.noemoticon.csv\", header=None, encoding='latin-1')\n",
        "data = pd.read_csv(\"/content/pre_processed_final.csv\")\n",
        "print(data.shape)\n",
        "data = data[[\"sentiment\", \"text\"]]\n",
        "data = data.dropna()\n",
        "data.head()"
      ],
      "execution_count": 8,
      "outputs": [
        {
          "output_type": "stream",
          "name": "stdout",
          "text": [
            "(28777, 3)\n"
          ]
        },
        {
          "output_type": "execute_result",
          "data": {
            "text/plain": [
              "   sentiment                                               text\n",
              "0        1.0  is lookin 4ward to a long weekend  really dont...\n",
              "1        1.0  myweakness  is music and i live to meet the pe...\n",
              "2        1.0            figured out the internet on my new ipod\n",
              "3        1.0  cant wait to worship with you guys tonight itl...\n",
              "4        1.0  congrats james  im sure the book is going to b..."
            ],
            "text/html": [
              "\n",
              "  <div id=\"df-ae38e726-514c-4c02-b738-0ac519784f27\">\n",
              "    <div class=\"colab-df-container\">\n",
              "      <div>\n",
              "<style scoped>\n",
              "    .dataframe tbody tr th:only-of-type {\n",
              "        vertical-align: middle;\n",
              "    }\n",
              "\n",
              "    .dataframe tbody tr th {\n",
              "        vertical-align: top;\n",
              "    }\n",
              "\n",
              "    .dataframe thead th {\n",
              "        text-align: right;\n",
              "    }\n",
              "</style>\n",
              "<table border=\"1\" class=\"dataframe\">\n",
              "  <thead>\n",
              "    <tr style=\"text-align: right;\">\n",
              "      <th></th>\n",
              "      <th>sentiment</th>\n",
              "      <th>text</th>\n",
              "    </tr>\n",
              "  </thead>\n",
              "  <tbody>\n",
              "    <tr>\n",
              "      <th>0</th>\n",
              "      <td>1.0</td>\n",
              "      <td>is lookin 4ward to a long weekend  really dont...</td>\n",
              "    </tr>\n",
              "    <tr>\n",
              "      <th>1</th>\n",
              "      <td>1.0</td>\n",
              "      <td>myweakness  is music and i live to meet the pe...</td>\n",
              "    </tr>\n",
              "    <tr>\n",
              "      <th>2</th>\n",
              "      <td>1.0</td>\n",
              "      <td>figured out the internet on my new ipod</td>\n",
              "    </tr>\n",
              "    <tr>\n",
              "      <th>3</th>\n",
              "      <td>1.0</td>\n",
              "      <td>cant wait to worship with you guys tonight itl...</td>\n",
              "    </tr>\n",
              "    <tr>\n",
              "      <th>4</th>\n",
              "      <td>1.0</td>\n",
              "      <td>congrats james  im sure the book is going to b...</td>\n",
              "    </tr>\n",
              "  </tbody>\n",
              "</table>\n",
              "</div>\n",
              "      <button class=\"colab-df-convert\" onclick=\"convertToInteractive('df-ae38e726-514c-4c02-b738-0ac519784f27')\"\n",
              "              title=\"Convert this dataframe to an interactive table.\"\n",
              "              style=\"display:none;\">\n",
              "        \n",
              "  <svg xmlns=\"http://www.w3.org/2000/svg\" height=\"24px\"viewBox=\"0 0 24 24\"\n",
              "       width=\"24px\">\n",
              "    <path d=\"M0 0h24v24H0V0z\" fill=\"none\"/>\n",
              "    <path d=\"M18.56 5.44l.94 2.06.94-2.06 2.06-.94-2.06-.94-.94-2.06-.94 2.06-2.06.94zm-11 1L8.5 8.5l.94-2.06 2.06-.94-2.06-.94L8.5 2.5l-.94 2.06-2.06.94zm10 10l.94 2.06.94-2.06 2.06-.94-2.06-.94-.94-2.06-.94 2.06-2.06.94z\"/><path d=\"M17.41 7.96l-1.37-1.37c-.4-.4-.92-.59-1.43-.59-.52 0-1.04.2-1.43.59L10.3 9.45l-7.72 7.72c-.78.78-.78 2.05 0 2.83L4 21.41c.39.39.9.59 1.41.59.51 0 1.02-.2 1.41-.59l7.78-7.78 2.81-2.81c.8-.78.8-2.07 0-2.86zM5.41 20L4 18.59l7.72-7.72 1.47 1.35L5.41 20z\"/>\n",
              "  </svg>\n",
              "      </button>\n",
              "      \n",
              "  <style>\n",
              "    .colab-df-container {\n",
              "      display:flex;\n",
              "      flex-wrap:wrap;\n",
              "      gap: 12px;\n",
              "    }\n",
              "\n",
              "    .colab-df-convert {\n",
              "      background-color: #E8F0FE;\n",
              "      border: none;\n",
              "      border-radius: 50%;\n",
              "      cursor: pointer;\n",
              "      display: none;\n",
              "      fill: #1967D2;\n",
              "      height: 32px;\n",
              "      padding: 0 0 0 0;\n",
              "      width: 32px;\n",
              "    }\n",
              "\n",
              "    .colab-df-convert:hover {\n",
              "      background-color: #E2EBFA;\n",
              "      box-shadow: 0px 1px 2px rgba(60, 64, 67, 0.3), 0px 1px 3px 1px rgba(60, 64, 67, 0.15);\n",
              "      fill: #174EA6;\n",
              "    }\n",
              "\n",
              "    [theme=dark] .colab-df-convert {\n",
              "      background-color: #3B4455;\n",
              "      fill: #D2E3FC;\n",
              "    }\n",
              "\n",
              "    [theme=dark] .colab-df-convert:hover {\n",
              "      background-color: #434B5C;\n",
              "      box-shadow: 0px 1px 3px 1px rgba(0, 0, 0, 0.15);\n",
              "      filter: drop-shadow(0px 1px 2px rgba(0, 0, 0, 0.3));\n",
              "      fill: #FFFFFF;\n",
              "    }\n",
              "  </style>\n",
              "\n",
              "      <script>\n",
              "        const buttonEl =\n",
              "          document.querySelector('#df-ae38e726-514c-4c02-b738-0ac519784f27 button.colab-df-convert');\n",
              "        buttonEl.style.display =\n",
              "          google.colab.kernel.accessAllowed ? 'block' : 'none';\n",
              "\n",
              "        async function convertToInteractive(key) {\n",
              "          const element = document.querySelector('#df-ae38e726-514c-4c02-b738-0ac519784f27');\n",
              "          const dataTable =\n",
              "            await google.colab.kernel.invokeFunction('convertToInteractive',\n",
              "                                                     [key], {});\n",
              "          if (!dataTable) return;\n",
              "\n",
              "          const docLinkHtml = 'Like what you see? Visit the ' +\n",
              "            '<a target=\"_blank\" href=https://colab.research.google.com/notebooks/data_table.ipynb>data table notebook</a>'\n",
              "            + ' to learn more about interactive tables.';\n",
              "          element.innerHTML = '';\n",
              "          dataTable['output_type'] = 'display_data';\n",
              "          await google.colab.output.renderOutput(dataTable, element);\n",
              "          const docLink = document.createElement('div');\n",
              "          docLink.innerHTML = docLinkHtml;\n",
              "          element.appendChild(docLink);\n",
              "        }\n",
              "      </script>\n",
              "    </div>\n",
              "  </div>\n",
              "  "
            ]
          },
          "metadata": {},
          "execution_count": 8
        }
      ]
    },
    {
      "cell_type": "code",
      "metadata": {
        "id": "yVX5M3jV_WOT",
        "pycharm": {
          "name": "#%%\n"
        }
      },
      "source": [
        "data_X = data['text']\n",
        "data_y = data['sentiment']\n",
        "data_y = pd.get_dummies(data_y)"
      ],
      "execution_count": 9,
      "outputs": []
    },
    {
      "cell_type": "code",
      "metadata": {
        "id": "vt_DCR2SGvGR",
        "colab": {
          "base_uri": "https://localhost:8080/"
        },
        "outputId": "e58f0e6c-de42-4d2d-d091-210d622b74d9",
        "pycharm": {
          "name": "#%%\n"
        }
      },
      "source": [
        "data_y = data_y.to_numpy()\n",
        "data_y"
      ],
      "execution_count": 10,
      "outputs": [
        {
          "output_type": "execute_result",
          "data": {
            "text/plain": [
              "array([[0, 0, 1],\n",
              "       [0, 0, 1],\n",
              "       [0, 0, 1],\n",
              "       ...,\n",
              "       [0, 1, 0],\n",
              "       [0, 1, 0],\n",
              "       [0, 1, 0]], dtype=uint8)"
            ]
          },
          "metadata": {},
          "execution_count": 10
        }
      ]
    },
    {
      "cell_type": "code",
      "source": [
        "n = 6542\n",
        "print(data['sentiment'][n], data_y[n])"
      ],
      "metadata": {
        "colab": {
          "base_uri": "https://localhost:8080/"
        },
        "id": "euffkr1Y3uKM",
        "outputId": "40f1119b-f34d-4b66-b975-8a9c1a7e2cad"
      },
      "execution_count": 11,
      "outputs": [
        {
          "output_type": "stream",
          "name": "stdout",
          "text": [
            "-1.0 [1 0 0]\n"
          ]
        }
      ]
    },
    {
      "cell_type": "code",
      "metadata": {
        "id": "SMpyUa8Dt8zH",
        "pycharm": {
          "name": "#%%\n"
        }
      },
      "source": [
        "max_vocab = 18000\n",
        "max_len = 15\n",
        "tokenizer = Tokenizer(num_words=max_vocab)"
      ],
      "execution_count": 12,
      "outputs": []
    },
    {
      "cell_type": "code",
      "metadata": {
        "id": "m2mtdUG0uN8Z",
        "colab": {
          "base_uri": "https://localhost:8080/"
        },
        "outputId": "55c3feb5-1cd0-462d-9c09-3d186341d064",
        "pycharm": {
          "name": "#%%\n"
        }
      },
      "source": [
        "data_X = data_X.to_numpy()\n",
        "print(data_X)\n",
        "tokenizer.fit_on_texts(data_X)\n",
        "sequences = tokenizer.texts_to_sequences(data_X)\n",
        "word_index = tokenizer.word_index\n"
      ],
      "execution_count": 13,
      "outputs": [
        {
          "output_type": "stream",
          "name": "stdout",
          "text": [
            "['is lookin 4ward to a long weekend  really dont want to go to work 2day tho  x'\n",
            " 'myweakness  is music and i live to meet the people who make it'\n",
            " 'figured out the internet on my new ipod' ...\n",
            " 'speaking of chris jericho it is wednesday today is it not time for some catching up on wrestling'\n",
            " 'im so jealous of everyone at the justin bieber concert no worries tho ill be seeing maroon 5 in march  roadtrippin'\n",
            " 'trending tim tebow is now dating cave woman from 10000 bc 1st date question what was it like in a time before jesus  tebowmania']\n"
          ]
        }
      ]
    },
    {
      "cell_type": "code",
      "metadata": {
        "id": "FbJ6pmtyue9k",
        "pycharm": {
          "name": "#%%\n"
        }
      },
      "source": [
        "print('Found %s unique tokens.' % len(word_index))"
      ],
      "execution_count": 13,
      "outputs": []
    },
    {
      "cell_type": "code",
      "metadata": {
        "id": "cd230kpIvde3",
        "colab": {
          "base_uri": "https://localhost:8080/"
        },
        "outputId": "862ed3dd-9682-4f8c-c482-50300a608cc9",
        "pycharm": {
          "name": "#%%\n"
        }
      },
      "source": [
        "data_keras = pad_sequences(sequences, maxlen=max_len, padding=\"post\")\n",
        "# data_keras = data_keras.reshape(data_X.shape[0], 15, 1)\n",
        "data_keras.shape\n",
        "\n"
      ],
      "execution_count": 14,
      "outputs": [
        {
          "output_type": "execute_result",
          "data": {
            "text/plain": [
              "(28398, 15)"
            ]
          },
          "metadata": {},
          "execution_count": 14
        }
      ]
    },
    {
      "cell_type": "code",
      "metadata": {
        "id": "eBWMDqltvnHK",
        "pycharm": {
          "name": "#%%\n"
        }
      },
      "source": [
        "from sklearn.model_selection import train_test_split\n",
        "train_X, valid_X, train_y, valid_y = train_test_split(data_keras, data_y, test_size = 0.3, random_state=32)"
      ],
      "execution_count": 15,
      "outputs": []
    },
    {
      "cell_type": "code",
      "metadata": {
        "id": "w6didFc14I-9",
        "pycharm": {
          "name": "#%%\n"
        }
      },
      "source": [],
      "execution_count": 15,
      "outputs": []
    },
    {
      "cell_type": "code",
      "metadata": {
        "id": "dLfSN1Is43Kl",
        "pycharm": {
          "name": "#%%\n"
        }
      },
      "source": [
        "# adopted from sent_tran_eval.py\n",
        "def build_model(nb_words, rnn_model=\"SimpleRNN\", embedding_matrix=None):\n",
        "    '''\n",
        "    build_model function:\n",
        "    inputs: \n",
        "        rnn_model - which type of RNN layer to use, choose in (SimpleRNN, LSTM, GRU)\n",
        "        embedding_matrix - whether to use pretrained embeddings or not\n",
        "    '''\n",
        "    model = Sequential()\n",
        "    # add an embedding layer\n",
        "    if embedding_matrix is not None:\n",
        "        model.add(Embedding(nb_words, \n",
        "                        100, \n",
        "                        weights=[embedding_matrix], \n",
        "                        input_length= max_len,\n",
        "                        trainable = False))\n",
        "    else:\n",
        "        model.add(Embedding(nb_words, \n",
        "                        100, \n",
        "                        input_length= max_len,\n",
        "                        trainable = False))\n",
        "        \n",
        "    # add an RNN layer according to rnn_model\n",
        "    if rnn_model == \"SimpleRNN\":\n",
        "        model.add(SimpleRNN(200))\n",
        "    elif rnn_model == \"LSTM\":\n",
        "        model.add(LSTM(200))\n",
        "    else:\n",
        "        model.add(GRU(200))\n",
        "    # model.add(Dense(500,activation='relu'))\n",
        "    # model.add(Dense(500, activation='relu'))\n",
        "    model.add(Dense(3, activation='softmax'))\n",
        "    \n",
        "    model.compile(loss='categorical_crossentropy', \n",
        "                optimizer='adam',\n",
        "                metrics=['accuracy'])\n",
        "    return model"
      ],
      "execution_count": 16,
      "outputs": []
    },
    {
      "cell_type": "code",
      "metadata": {
        "id": "3QoxYEfl6zr5",
        "pycharm": {
          "name": "#%%\n"
        }
      },
      "source": [],
      "execution_count": 23,
      "outputs": []
    },
    {
      "cell_type": "code",
      "source": [
        "model_rnn = build_model(nb_words, \"SimpleRNN\", embedding_matrix)\n",
        "model_rnn.fit(train_X, train_y, epochs=20, batch_size=60,\n",
        "          validation_data=(valid_X, valid_y), callbacks=EarlyStopping(monitor='val_accuracy', mode='max',patience=3))\n",
        "predictions = model_rnn.predict(valid_X)\n",
        "predictions = predictions.argmax(axis=1)\n",
        "print(classification_report(valid_y.argmax(axis=1), predictions))"
      ],
      "metadata": {
        "colab": {
          "base_uri": "https://localhost:8080/"
        },
        "id": "879ZIK4F4nnC",
        "outputId": "7209b181-442f-41d5-a71a-50921adbf626"
      },
      "execution_count": 23,
      "outputs": [
        {
          "output_type": "stream",
          "name": "stdout",
          "text": [
            "Epoch 1/20\n",
            "332/332 [==============================] - 7s 18ms/step - loss: 0.8800 - accuracy: 0.6044 - val_loss: 0.8185 - val_accuracy: 0.6405\n",
            "Epoch 2/20\n",
            "332/332 [==============================] - 5s 15ms/step - loss: 0.7951 - accuracy: 0.6517 - val_loss: 0.7802 - val_accuracy: 0.6585\n",
            "Epoch 3/20\n",
            "332/332 [==============================] - 5s 14ms/step - loss: 0.7610 - accuracy: 0.6724 - val_loss: 0.7942 - val_accuracy: 0.6487\n",
            "Epoch 4/20\n",
            "332/332 [==============================] - 6s 19ms/step - loss: 0.7336 - accuracy: 0.6867 - val_loss: 0.7926 - val_accuracy: 0.6538\n",
            "Epoch 5/20\n",
            "332/332 [==============================] - 7s 20ms/step - loss: 0.7027 - accuracy: 0.7010 - val_loss: 0.8142 - val_accuracy: 0.6370\n",
            "267/267 [==============================] - 2s 5ms/step\n",
            "              precision    recall  f1-score   support\n",
            "\n",
            "           0       0.67      0.67      0.67      2801\n",
            "           1       0.55      0.70      0.62      2633\n",
            "           2       0.71      0.56      0.63      3086\n",
            "\n",
            "    accuracy                           0.64      8520\n",
            "   macro avg       0.64      0.64      0.64      8520\n",
            "weighted avg       0.65      0.64      0.64      8520\n",
            "\n"
          ]
        }
      ]
    },
    {
      "cell_type": "code",
      "metadata": {
        "id": "Yhj2fWHW-MZB",
        "pycharm": {
          "name": "#%%\n"
        }
      },
      "source": [],
      "execution_count": 23,
      "outputs": []
    },
    {
      "cell_type": "code",
      "source": [
        "model_lstm = build_model(nb_words, \"LSTM\", embedding_matrix)\n",
        "model_lstm.fit(train_X, train_y, epochs=20, batch_size=60,\n",
        "          validation_data=(valid_X, valid_y), callbacks=EarlyStopping(monitor='val_accuracy', mode='max',patience=3))\n",
        "predictions = model_lstm.predict(valid_X)\n",
        "predictions = predictions.argmax(axis=1)\n",
        "print(classification_report(valid_y.argmax(axis=1), predictions))\n"
      ],
      "metadata": {
        "colab": {
          "base_uri": "https://localhost:8080/"
        },
        "id": "cu-9EIyq5qPR",
        "outputId": "eb45801a-be20-4a35-9691-4e6de10e7af3"
      },
      "execution_count": 21,
      "outputs": [
        {
          "output_type": "stream",
          "name": "stdout",
          "text": [
            "Epoch 1/20\n",
            "332/332 [==============================] - 7s 11ms/step - loss: 0.8123 - accuracy: 0.6360 - val_loss: 0.7443 - val_accuracy: 0.6772\n",
            "Epoch 2/20\n",
            "332/332 [==============================] - 2s 7ms/step - loss: 0.7412 - accuracy: 0.6747 - val_loss: 0.7433 - val_accuracy: 0.6749\n",
            "Epoch 3/20\n",
            "332/332 [==============================] - 2s 7ms/step - loss: 0.7121 - accuracy: 0.6890 - val_loss: 0.7057 - val_accuracy: 0.6967\n",
            "Epoch 4/20\n",
            "332/332 [==============================] - 2s 6ms/step - loss: 0.6828 - accuracy: 0.7062 - val_loss: 0.7008 - val_accuracy: 0.6973\n",
            "Epoch 5/20\n",
            "332/332 [==============================] - 2s 7ms/step - loss: 0.6547 - accuracy: 0.7217 - val_loss: 0.6988 - val_accuracy: 0.7005\n",
            "Epoch 6/20\n",
            "332/332 [==============================] - 2s 6ms/step - loss: 0.6198 - accuracy: 0.7341 - val_loss: 0.6991 - val_accuracy: 0.6981\n",
            "Epoch 7/20\n",
            "332/332 [==============================] - 2s 6ms/step - loss: 0.5843 - accuracy: 0.7532 - val_loss: 0.6966 - val_accuracy: 0.7043\n",
            "Epoch 8/20\n",
            "332/332 [==============================] - 2s 7ms/step - loss: 0.5418 - accuracy: 0.7702 - val_loss: 0.7381 - val_accuracy: 0.6901\n",
            "Epoch 9/20\n",
            "332/332 [==============================] - 2s 7ms/step - loss: 0.4910 - accuracy: 0.7946 - val_loss: 0.7495 - val_accuracy: 0.6874\n",
            "Epoch 10/20\n",
            "332/332 [==============================] - 2s 6ms/step - loss: 0.4326 - accuracy: 0.8236 - val_loss: 0.8031 - val_accuracy: 0.6905\n",
            "267/267 [==============================] - 1s 2ms/step\n",
            "              precision    recall  f1-score   support\n",
            "\n",
            "           0       0.72      0.73      0.73      2801\n",
            "           1       0.64      0.61      0.62      2633\n",
            "           2       0.70      0.72      0.71      3086\n",
            "\n",
            "    accuracy                           0.69      8520\n",
            "   macro avg       0.69      0.69      0.69      8520\n",
            "weighted avg       0.69      0.69      0.69      8520\n",
            "\n"
          ]
        }
      ]
    },
    {
      "cell_type": "code",
      "metadata": {
        "id": "i8aoae6jN7tJ",
        "pycharm": {
          "name": "#%%\n"
        }
      },
      "source": [],
      "execution_count": 23,
      "outputs": []
    },
    {
      "cell_type": "code",
      "source": [
        "model_gru = build_model(nb_words, \"GRU\", embedding_matrix)\n",
        "# 20, 120\n",
        "model_gru.fit(train_X, train_y, epochs=10, batch_size=100,\n",
        "          validation_data=(valid_X, valid_y), callbacks=EarlyStopping(monitor='val_accuracy', mode='max',patience=3))\n",
        "predictions = model_gru.predict(valid_X)\n",
        "predictions = predictions.argmax(axis=1)\n",
        "print(classification_report(valid_y.argmax(axis=1), predictions))"
      ],
      "metadata": {
        "colab": {
          "base_uri": "https://localhost:8080/"
        },
        "id": "YWRwKIAN5r0S",
        "outputId": "ad5d6f7e-90f8-4b72-cbab-4c84aaf85268"
      },
      "execution_count": 22,
      "outputs": [
        {
          "output_type": "stream",
          "name": "stdout",
          "text": [
            "Epoch 1/10\n",
            "199/199 [==============================] - 4s 11ms/step - loss: 0.8334 - accuracy: 0.6227 - val_loss: 0.7366 - val_accuracy: 0.6811\n",
            "Epoch 2/10\n",
            "199/199 [==============================] - 1s 7ms/step - loss: 0.7455 - accuracy: 0.6778 - val_loss: 0.7243 - val_accuracy: 0.6838\n",
            "Epoch 3/10\n",
            "199/199 [==============================] - 1s 6ms/step - loss: 0.7174 - accuracy: 0.6875 - val_loss: 0.7125 - val_accuracy: 0.6907\n",
            "Epoch 4/10\n",
            "199/199 [==============================] - 1s 6ms/step - loss: 0.6902 - accuracy: 0.7007 - val_loss: 0.7040 - val_accuracy: 0.6957\n",
            "Epoch 5/10\n",
            "199/199 [==============================] - 1s 6ms/step - loss: 0.6698 - accuracy: 0.7125 - val_loss: 0.6975 - val_accuracy: 0.6992\n",
            "Epoch 6/10\n",
            "199/199 [==============================] - 1s 6ms/step - loss: 0.6427 - accuracy: 0.7255 - val_loss: 0.7056 - val_accuracy: 0.6914\n",
            "Epoch 7/10\n",
            "199/199 [==============================] - 1s 6ms/step - loss: 0.6135 - accuracy: 0.7432 - val_loss: 0.7036 - val_accuracy: 0.6947\n",
            "Epoch 8/10\n",
            "199/199 [==============================] - 1s 6ms/step - loss: 0.5796 - accuracy: 0.7581 - val_loss: 0.7054 - val_accuracy: 0.7005\n",
            "Epoch 9/10\n",
            "199/199 [==============================] - 1s 6ms/step - loss: 0.5364 - accuracy: 0.7763 - val_loss: 0.7360 - val_accuracy: 0.6824\n",
            "Epoch 10/10\n",
            "199/199 [==============================] - 1s 6ms/step - loss: 0.4881 - accuracy: 0.8011 - val_loss: 0.7760 - val_accuracy: 0.6881\n",
            "267/267 [==============================] - 1s 3ms/step\n",
            "              precision    recall  f1-score   support\n",
            "\n",
            "           0       0.73      0.71      0.72      2801\n",
            "           1       0.64      0.62      0.63      2633\n",
            "           2       0.70      0.72      0.71      3086\n",
            "\n",
            "    accuracy                           0.69      8520\n",
            "   macro avg       0.69      0.69      0.69      8520\n",
            "weighted avg       0.69      0.69      0.69      8520\n",
            "\n"
          ]
        }
      ]
    },
    {
      "cell_type": "code",
      "source": [
        "model_gru.save(\"rnn.h5\")"
      ],
      "metadata": {
        "id": "Q1OnkVwwZgX6"
      },
      "execution_count": 24,
      "outputs": []
    },
    {
      "cell_type": "code",
      "source": [],
      "metadata": {
        "id": "FPq66qQoYdJo"
      },
      "execution_count": null,
      "outputs": []
    },
    {
      "cell_type": "code",
      "source": [],
      "metadata": {
        "id": "dbU-GzNCYuJG"
      },
      "execution_count": 1,
      "outputs": []
    },
    {
      "cell_type": "code",
      "metadata": {
        "id": "jWzBeclqH6i2",
        "pycharm": {
          "name": "#%%\n"
        }
      },
      "source": [],
      "execution_count": 1,
      "outputs": []
    },
    {
      "cell_type": "code",
      "source": [],
      "metadata": {
        "id": "Gw7OPAGyYSwx"
      },
      "execution_count": 1,
      "outputs": []
    },
    {
      "cell_type": "code",
      "source": [],
      "metadata": {
        "id": "5ptciApJZPx3"
      },
      "execution_count": 1,
      "outputs": []
    },
    {
      "cell_type": "code",
      "source": [],
      "metadata": {
        "id": "SG2MVSx1b-l2"
      },
      "execution_count": 1,
      "outputs": []
    },
    {
      "cell_type": "code",
      "source": [],
      "metadata": {
        "id": "76tpLk65cOQb"
      },
      "execution_count": 1,
      "outputs": []
    },
    {
      "cell_type": "code",
      "source": [],
      "metadata": {
        "id": "OCu_n25McvMZ"
      },
      "execution_count": 1,
      "outputs": []
    },
    {
      "cell_type": "code",
      "source": [],
      "metadata": {
        "id": "2EnkFboMiFDK"
      },
      "execution_count": 1,
      "outputs": []
    },
    {
      "cell_type": "code",
      "source": [],
      "metadata": {
        "id": "-sjcbHeomkX3"
      },
      "execution_count": 1,
      "outputs": []
    },
    {
      "cell_type": "code",
      "source": [],
      "metadata": {
        "id": "ktM10McXm6fq"
      },
      "execution_count": null,
      "outputs": []
    }
  ]
}